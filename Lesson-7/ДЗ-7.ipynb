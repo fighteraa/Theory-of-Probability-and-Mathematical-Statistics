{
 "cells": [
  {
   "cell_type": "markdown",
   "metadata": {},
   "source": [
    "__Задача 1__\n",
    "\n",
    "Даны значения величины заработной платы заемщиков банка (`salary`) и значения их поведенческого кредитного скоринга (`scoring`):\n",
    "```\n",
    "salary = [35, 45, 190, 200, 40, 70, 54, 150, 120, 110]\n",
    "scoring = [401, 574, 874, 919, 459, 739, 653, 902, 746, 832]\n",
    "```\n",
    "Возьмём в качестве признака значение `salary`, а в качестве целевой переменной - `scoring`.\n",
    "\n",
    "1. Найдите коэффициенты линейной регрессии с помощью формул для парной регрессии, а затем с помощью метода наименьших квадратов.\n",
    "2. Постройте `scatter plot` по данным и отметьте на нём прямую линейной регрессии, полученную в п. 1.\n",
    "3. Посчитайте коэффициент детерминации, среднюю ошибку аппроксимации.\n",
    "4. Оцените построенное уравнение регрессии с помощью F-критерия Фишера.\n",
    "5. Оцените значимость получившихся параметров уравнения регрессии и постройте для них доверительные интервалы с помощью t-статистики Стьюдента."
   ]
  },
  {
   "cell_type": "markdown",
   "metadata": {},
   "source": [
    "1. Найдите коэффициенты линейной регрессии с помощью формул для парной регрессии, а затем с помощью метода наименьших квадратов.\n",
    "\n",
    "Формула для парной регрессии:\n",
    "\n",
    "$$y = b_0 + b_1 x$$\n",
    "\n",
    "Т.к. у нас парная регрессия, воспользуемся формулами для нахождения коэффициентов:\n",
    "\n",
    "$$b_1 = \\frac{\\overline{yx} - \\overline{y} \\cdot {\\overline{x}}}{\\overline{x^2} - (\\overline{x})^2}, \\: b_0 = \\overline{y} - b_1 \\cdot {\\overline{x}}.$$\n",
    "\n",
    "Формулы для нахождения коэффициентов для парной регрессии методом наименьших квадратов:  \n",
    "Решаем систему уравнений: \n",
    "$$X \\cdot b = y$$\n",
    "\n",
    "$$(X \\cdot b - y)^\\top \\cdot (X \\cdot b - y) \\rightarrow \\min_b.$$\n",
    "\n",
    "Для такой задачи возможно записать аналитическое решение:\n",
    "\n",
    "$$b = (X^\\top X)^{-1} X^\\top y.$$"
   ]
  },
  {
   "cell_type": "code",
   "execution_count": 41,
   "metadata": {},
   "outputs": [
    {
     "name": "stdout",
     "output_type": "stream",
     "text": [
      "коэффициент b0 = 444.1773573243596\n",
      "коэффициент b1 = 2.620538882402765\n"
     ]
    }
   ],
   "source": [
    "import numpy as np\n",
    "from matplotlib import pyplot as plt\n",
    "%matplotlib inline\n",
    "\n",
    "# 1. Найдите коэффициенты линейной регрессии с помощью формул для парной регрессии, \n",
    "# а затем с помощью метода наименьших квадратов.\n",
    "salary = np.array([35, 45, 190, 200, 40, 70, 54, 150, 120, 110], float)\n",
    "scoring = np.array([401, 574, 874, 919, 459, 739, 653, 902, 746, 832])\n",
    "\n",
    "salary_clear = salary\n",
    "scoring_clear = scoring\n",
    "\n",
    "b1 = (np.mean(salary * scoring) - np.mean(salary) * np.mean(scoring)) / (np.mean(salary ** 2) - np.mean(salary) ** 2)\n",
    "b0 = np.mean(scoring) - b1 * np.mean(salary)\n",
    "\n",
    "print(f'коэффициент b0 = {b0}')\n",
    "print(f'коэффициент b1 = {b1}')\n",
    "\n",
    "ox = salary\n",
    "oy = b0 + b1 * salary"
   ]
  },
  {
   "cell_type": "code",
   "execution_count": 42,
   "metadata": {},
   "outputs": [
    {
     "name": "stdout",
     "output_type": "stream",
     "text": [
      "[[444.17735732]\n",
      " [  2.62053888]]\n"
     ]
    }
   ],
   "source": [
    "# Метод наименьших квадратов\n",
    "ones_1 = np.array([1, 1, 1, 1, 1, 1, 1, 1, 1, 1])\n",
    "salary = np.vstack((ones_1, salary))\n",
    "salary = salary.T\n",
    "salary\n",
    "\n",
    "XTX = salary.T.dot(salary)\n",
    "\n",
    "np.linalg.det(XTX)\n",
    "\n",
    "XTX_inv = np.linalg.inv(XTX)\n",
    "\n",
    "scoring = scoring.reshape(-1, 1)\n",
    "\n",
    "b = XTX_inv.dot(salary.T).dot(scoring)\n",
    "\n",
    "print(b)"
   ]
  },
  {
   "cell_type": "markdown",
   "metadata": {},
   "source": [
    "Коэффициенты найденые методом наименьших квадратов и через формулы парной регрессии совпадают."
   ]
  },
  {
   "cell_type": "code",
   "execution_count": 30,
   "metadata": {
    "scrolled": true
   },
   "outputs": [
    {
     "data": {
      "image/png": "[encoded data removed]",
      "text/plain": [
       "<Figure size 432x288 with 1 Axes>"
      ]
     },
     "metadata": {
      "needs_background": "light"
     },
     "output_type": "display_data"
    }
   ],
   "source": [
    "plt.scatter(salary_clear, scoring_clear);\n",
    "plt.plot(ox, oy, color='red');"
   ]
  },
  {
   "cell_type": "markdown",
   "metadata": {},
   "source": [
    "3. Посчитайте коэффициент детерминации, среднюю ошибку аппроксимации.\n",
    "\n",
    "найдем дисперсию объясняемой переменной y и дисперсию модели можно посчитать следующим образом:\n",
    "\n",
    "$$D_y = \\dfrac{1}{n} \\displaystyle\\sum_{i = 1}^n (y_i - \\overline{y})^2, \\:\n",
    "D_{model} = \\dfrac{1}{n} \\displaystyle\\sum_{i = 1}^n (z_i - \\overline{z})^2.$$\n",
    "\n",
    "Коэффициент детерминации тогда считается следующим образом:\n",
    "\n",
    "$$R^2 = \\dfrac{D_{model}}{D_y}.$$\n",
    "\n",
    "Среднюю ошибку аппрокасимации считаем по формуле:  \n",
    "$$\\overline{A} = \\frac{1}{n} \\displaystyle\\sum_{i=1}^{n} \\Bigl| {{\\frac{y_i - z_i}{y_i}} \\Bigr|}.$$\n",
    "\n",
    "Если $\\overline{A}$ не превышает $8-10 \\%$, можно сказать, что теоретические значения близки к тем, которые выдает модель линейной регрессии."
   ]
  },
  {
   "cell_type": "code",
   "execution_count": 51,
   "metadata": {
    "scrolled": true
   },
   "outputs": [
    {
     "name": "stdout",
     "output_type": "stream",
     "text": [
      "R1 = 0.7876386635293678\n"
     ]
    },
    {
     "data": {
      "text/plain": [
       "0.11469251843561709"
      ]
     },
     "execution_count": 51,
     "metadata": {},
     "output_type": "execute_result"
    }
   ],
   "source": [
    "z1 = b0 + b1 * salary_clear\n",
    "\n",
    "R1 = z1.var() / scoring_clear.var()\n",
    "print(f'R1 = {R1}')\n",
    "\n",
    "def mean_approximation_error(y_real, y_pred):\n",
    "    return np.abs((y_real - y_pred) / y_real).mean()\n",
    "\n",
    "mean_approximation_error(scoring_clear, z1)\n"
   ]
  },
  {
   "cell_type": "markdown",
   "metadata": {},
   "source": [
    "В нашем случае, средняя ошибка аппроксимации составляет около 11%, можем сделать вывод что теоретические значения близки к тем, которые выдает модель линейной регрессии"
   ]
  },
  {
   "cell_type": "markdown",
   "metadata": {},
   "source": [
    "4. Оцените построенное уравнение регрессии с помощью F-критерия Фишера.\n",
    "Выберем уровень значимости 0.05\n",
    "\n",
    "$$T = \\dfrac{R^2}{1 - R^2} \\cdot \\dfrac{n - k - 1}{k},$$\n",
    "\n",
    "вычислим критическое значение $F_{сrit} = F(k_1, k_2)$. Это же значение можно вычислить с помощью функции `scipy.stats.f.ppf`.\n",
    "\n",
    "Если $T > F_{crit}$, то уравнение регрессии признаётся статистически значимым."
   ]
  },
  {
   "cell_type": "code",
   "execution_count": 36,
   "metadata": {},
   "outputs": [
    {
     "name": "stdout",
     "output_type": "stream",
     "text": [
      "T1 = 37.08955107458046\n"
     ]
    },
    {
     "data": {
      "text/plain": [
       "4.9646027437307145"
      ]
     },
     "execution_count": 36,
     "metadata": {},
     "output_type": "execute_result"
    }
   ],
   "source": [
    "k1 = 1\n",
    "k2 = 10\n",
    "\n",
    "T1 = (R1 / (1 - R1)) * (k2 / k1)\n",
    "print(f'T1 = {T1}')\n",
    "\n",
    "from scipy import stats\n",
    "alpha = 0.05\n",
    "\n",
    "F_crit = stats.f.ppf(1 - alpha, k1, k2)\n",
    "F_crit"
   ]
  },
  {
   "cell_type": "markdown",
   "metadata": {},
   "source": [
    "Имеем $T > F_{crit}$, поэтому уравнение регрессии статистически значимо."
   ]
  },
  {
   "cell_type": "markdown",
   "metadata": {},
   "source": [
    "#### 5. Оцените значимость получившихся параметров уравнения регрессии и постройте для них доверительные интервалы с помощью t-статистики Стьюдента."
   ]
  },
  {
   "cell_type": "markdown",
   "metadata": {},
   "source": [
    "Найдем стандартную ошибку коэффициента наклона: \n",
    "$$S_{slope} = \\sqrt{\\dfrac{\\frac{1}{n - 2} \\displaystyle\\sum_{i=1}^{n}(y_i - z_i)^2}{\\displaystyle\\sum_{i=1}^n (x_i - \\overline{x})^2}},$$\n",
    "\n",
    "Допустим, мы получили коэффициент наклона $\\hat{b}_1$ . Чтобы оценить значимость этого параметра, рассмотрим нулевую гипотезу $H_0$, которая утверждает, что реальное значение коэффициента $b_1$ равно 0.  Тогда статистика:\n",
    "\n",
    "$$T = \\dfrac{\\hat{b}_1}{S_{slope}}$$\n",
    "Зададим уровень значимости $\\alpha$ = 0.05. Тогда критическая область выглядит следующим образом:\n",
    "\n",
    "$$\\Omega_\\alpha = \\left( -\\infty, - t_{1 - \\alpha/2, \\: n - 2} \\right) \\cup \\left( t_{1 - \\alpha/2, \\: n - 2}, \\infty \\right).$$\n",
    "\n",
    "Если полученное нами значение $\\hat{b}_1$ попадает в критическую область, то нулевая гипотеза (об отсутствии корреляции между значениями из $x$ и $y$) отвергается, откуда следует, что параметр $b_1$ является значимым.\n",
    "\n",
    "Доверительный интервал для коэффициента $b_1$:\n",
    "\n",
    "$$\\left( \\hat{b}_1 - t_{1 - \\alpha/2, \\: n - 2} \\cdot S_{slope}, \\: \\hat{b}_1 + t_{1 - \\alpha/2, \\: n - 2} \\cdot S_{slope} \\right).$$\n",
    "\n",
    "Аналогично можно проверить значимость коэффициента сдвига $b_0$ и построить доверительный интервал для него. Стандартная ошибка коэффициента сдвига вычисляется по формуле:\n",
    "\n",
    "$$S_{intercept} = S_{slope} \\cdot \\sqrt{\\dfrac{1}{n} \\displaystyle\\sum_{i=1}^n x_i^2}.$$"
   ]
  },
  {
   "cell_type": "code",
   "execution_count": 45,
   "metadata": {},
   "outputs": [
    {
     "name": "stdout",
     "output_type": "stream",
     "text": [
      "s_slope = 0.48108279568516005\n",
      "T = 5.447168150485579\n",
      "Коэффициент Стьюдента = 2.2621571627409915\n",
      "Доверительный интервал для b1 (1.532253990272119, 3.7088237745334105)\n"
     ]
    }
   ],
   "source": [
    "def standard_error_slope(x, y, z):\n",
    "    n = x.shape[0]\n",
    "    \n",
    "    upper = ((y - z) ** 2).sum() / (n - 2)\n",
    "    lower = ((x - x.mean()) ** 2).sum()\n",
    "    \n",
    "    return np.sqrt(upper / lower)\n",
    "\n",
    "s_slope = standard_error_slope(salary_clear, scoring_clear, z1)\n",
    "print(f's_slope = {s_slope}')\n",
    "\n",
    "T = b1 / s_slope\n",
    "print(f'T = {T}')\n",
    "\n",
    "import scipy\n",
    "from scipy import stats\n",
    "\n",
    "p = 0.95\n",
    "n = 10\n",
    "t = scipy.stats.t.ppf((1 + p)/2, n-1)\n",
    "print(f'Коэффициент Стьюдента = {t}')\n",
    "print(f'Доверительный интервал для b1 {(b1 - t * s_slope, b1 + t * s_slope)}')"
   ]
  },
  {
   "cell_type": "markdown",
   "metadata": {},
   "source": [
    "Аналогично для параметра $b_0$:"
   ]
  },
  {
   "cell_type": "code",
   "execution_count": 46,
   "metadata": {},
   "outputs": [
    {
     "name": "stdout",
     "output_type": "stream",
     "text": [
      "s_intercept = 56.46649755068153\n",
      "T = 7.866210524668863\n",
      "Доверительный интервал для b0 (316.4412654351887, 571.9134492135305)\n"
     ]
    }
   ],
   "source": [
    "def standard_error_intercept(x, y, z):\n",
    "    return standard_error_slope(x, y, z) * np.sqrt((x ** 2).mean())\n",
    "\n",
    "s_intercept = standard_error_intercept(salary_clear, scoring_clear, z1)\n",
    "print(f's_intercept = {s_intercept}')\n",
    "\n",
    "T = b0 / s_intercept\n",
    "print(f'T = {T}')\n",
    "\n",
    "print(f'Доверительный интервал для b0 {(b0 - t * s_intercept, b0 + t * s_intercept)}')"
   ]
  },
  {
   "cell_type": "markdown",
   "metadata": {},
   "source": [
    "__Задача 2__\n",
    "\n",
    "В каких случаях для вычисления доверительных интервалов и проверки статистических гипотез используется таблица значений функции Лапласа, а в каких - таблица квантилей распределения Стьюдента?"
   ]
  },
  {
   "cell_type": "markdown",
   "metadata": {},
   "source": [
    "Функция Лапласа:\n",
    "$$F\\left(t \\right)=\\frac{2}{\\sqrt{2\\pi }}\\int_{0}^{t}{e^{-t^{2}/2}dt}$$\n",
    "\n",
    "Функция нечетная , можно вычислять и значения от отрицательного аргумента по формуле:  \n",
    "$$F\\left(-t \\right)=-F\\left(t \\right)$$\n",
    "\n",
    "t-критерий стьтюдента находятся по формуле:\n",
    "$$T = \\dfrac{\\overline{X} - m}{\\sigma_X / \\sqrt{n}},$$\n",
    "\n",
    "t-критерий стьтюдента мы используем, когда известна выборочная дисперсия.\n",
    "Функцию Лапласа когда она не известна."
   ]
  }
 ],
 "metadata": {
  "kernelspec": {
   "display_name": "Python 3",
   "language": "python",
   "name": "python3"
  },
  "language_info": {
   "codemirror_mode": {
    "name": "ipython",
    "version": 3
   },
   "file_extension": ".py",
   "mimetype": "text/x-python",
   "name": "python",
   "nbconvert_exporter": "python",
   "pygments_lexer": "ipython3",
   "version": "3.7.1"
  }
 },
 "nbformat": 4,
 "nbformat_minor": 2
}
