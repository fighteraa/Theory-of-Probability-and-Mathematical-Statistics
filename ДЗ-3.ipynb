{
 "cells": [
  {
   "cell_type": "markdown",
   "metadata": {},
   "source": [
    "__Задача 1__\n",
    "\n",
    "Даны значения зарплат из выборки выпускников: \n",
    "```\n",
    "100, 80, 75, 77, 89, 33, 45, 25, 65, 17, 30, 24, 57, 55, 70, 75, 65, 84, 90, 150.\n",
    "```\n",
    "Без использования статистических функций вроде `mean`, `std`, `var`, посчитать среднее арифметическое, среднее квадратичное отклонение, смещенную и несмещенную оценки дисперсий для данной выборки.\n",
    "\n",
    "Можно затем посчитать те же значения с использованием статистических функций, чтобы проверить себя."
   ]
  },
  {
   "cell_type": "markdown",
   "metadata": {},
   "source": [
    "__среднее арифметическое__ (или __выборочное среднее__) считаем по формуле:\n",
    "\n",
    "$$\\overline{x} = \\dfrac{1}{m} \\displaystyle\\sum_{i = 1}^m x_i.$$\n",
    "\n",
    "__Смещенную дисперсию случайной__ считаем по формуле:\n",
    "\n",
    "$$\\sigma^2 = \\dfrac{1}{m} \\displaystyle\\sum_{i = 1}^m (x_i - \\overline{x})^2.$$\n",
    "\n",
    "__среднее квадратическое отклонение__ считаем по формуле:\n",
    "\n",
    "$$\\sigma = \\sqrt{\\dfrac{1}{m} \\displaystyle\\sum_{i = 1}^m (x_i - \\overline{x})^2}.$$\n",
    "\n",
    "__Несмещенную дисперсию случайной__ считаем по формуле:\n",
    "\n",
    "$$\\sigma^2 = \\dfrac{1}{m-1} \\displaystyle\\sum_{i = 1}^m (x_i - \\overline{x})^2.$$\n",
    "\n",
    "__среднее квадратическое отклонение__ считаем по формуле:\n",
    "\n",
    "$$\\sigma = \\sqrt{\\dfrac{1}{m-1} \\displaystyle\\sum_{i = 1}^m (x_i - \\overline{x})^2}.$$"
   ]
  },
  {
   "cell_type": "code",
   "execution_count": 26,
   "metadata": {
    "scrolled": true
   },
   "outputs": [
    {
     "name": "stdout",
     "output_type": "stream",
     "text": [
      "Среднее значение рассчетное: 65.3\n",
      "Смещенная дисперсия рассчетное: 950.11\n",
      "Среднее квадратическое отклонение рассчетное: 30.823854398825596\n",
      "Несмещенная дисперсия рассчетное: 1000.1157894736842\n",
      "Среднее квадратическое рассчетное: 31.624607341019814\n",
      "\n",
      "Проверка\n",
      "Среднее значение с использованием статистической функции 65.3\n",
      "Смещенная дисперсия с использованием статистической функции 950.11\n",
      "Среднее квадратическое отклонение с использованием статистической функции 30.823854398825596\n",
      "Несмещенная дисперсия с использованием статистической функции 1000.1157894736842\n",
      "Среднее квадратическое отклонение с использованием статистической функции 31.624607341019814\n"
     ]
    }
   ],
   "source": [
    "import numpy as np\n",
    "import math\n",
    "\n",
    "salary = np.array([100, 80, 75, 77, 89, 33, 45, 25, 65, 17, 30, 24, 57, 55, 70, 75, 65, 84, 90, 150])\n",
    "salary_mean = sum(salary)/len(salary)\n",
    "summa = 0\n",
    "for i in salary:\n",
    "    summa += (i - salary_mean)**2\n",
    "    \n",
    "salary_var_bias = summa/len(salary)\n",
    "\n",
    "salary_std_bias = math.sqrt(salary_var_1)\n",
    "\n",
    "salary_var_not_bias = summa/(len(salary)-1)\n",
    "\n",
    "salary_std_not_bias = math.sqrt(salary_var_not_bias)\n",
    "\n",
    "print(f'Среднее значение рассчетное: {salary_mean}')\n",
    "print(f'Смещенная дисперсия рассчетное: {salary_var_bias}')\n",
    "print(f'Среднее квадратическое отклонение рассчетное: {salary_std_bias}')\n",
    "print(f'Несмещенная дисперсия рассчетное: {salary_var_not_bias}')\n",
    "print(f'Среднее квадратическое рассчетное: {salary_std_not_bias}')\n",
    "\n",
    "print('\\nПроверка')\n",
    "print(f'Среднее значение с использованием статистической функции {np.mean(salary)}')\n",
    "print(f'Смещенная дисперсия с использованием статистической функции {np.var(salary)}')\n",
    "print(f'Среднее квадратическое отклонение с использованием статистической функции {np.std(salary)}')\n",
    "print(f'Несмещенная дисперсия с использованием статистической функции {np.var(salary, ddof=1)}')\n",
    "print(f'Среднее квадратическое отклонение с использованием статистической функции {np.std(salary, ddof=1)}')"
   ]
  },
  {
   "cell_type": "markdown",
   "metadata": {},
   "source": [
    "__Задача 2__\n",
    "\n",
    "Для выборки из задачи 1 найти первый и третий квартили, интерквартильное расстояние. Найти выборсы в выборке, используя для этого \"усы\" из `boxplot`. В этой задаче можно использовать статистические функции."
   ]
  },
  {
   "cell_type": "markdown",
   "metadata": {},
   "source": [
    "первый и третий квантиль найдем с помощью встроенной функции quantile()  \n",
    "далее найдем интерквартильный размах:\n",
    "$IQR = Q3-Q1$\n",
    "Далее, найдем «Усы» по формуле  \n",
    "$\\left[ Q1 - 1.5 \\times IQR, \\text{ } Q3 + 1.5 \\times IQR \\right],$  \n",
    "где $IQR$ — интерквартильное расстояние.  \n",
    "Построим boxplot, а потом проверим каждый элемент в массиве salary на присутствие в интервале \"Усов\"."
   ]
  },
  {
   "cell_type": "code",
   "execution_count": 27,
   "metadata": {},
   "outputs": [
    {
     "name": "stdout",
     "output_type": "stream",
     "text": [
      "первый квантиль: 42.0, третий квантиль: 81.0\n",
      "Интерквартильный размах: 39.0\n",
      "Усы: (-16.5, 139.5)\n",
      "Из рисунка boxplot видно, что выбросом является значение зарплаты 150\n",
      "\n",
      "Проверка\n",
      "Т.к. у нас нижня граница получилась отрицательной,\n",
      "а отрицательных з/п нет, то проверим только превышение верхнего порога\n",
      "значение зарплаты 150, больше верхнего значения порога 139.5\n"
     ]
    },
    {
     "data": {
      "image/png": "[encoded data removed]",
      "text/plain": [
       "<Figure size 432x288 with 1 Axes>"
      ]
     },
     "metadata": {
      "needs_background": "light"
     },
     "output_type": "display_data"
    }
   ],
   "source": [
    "from matplotlib import pyplot as plt\n",
    "%matplotlib inline\n",
    "\n",
    "q1, q3 = np.quantile(salary, [0.25, 0.75])\n",
    "print(f'первый квантиль: {q1}, третий квантиль: {q3}')\n",
    "\n",
    "iqr = q3 - q1\n",
    "print(f'Интерквартильный размах: {iqr}')\n",
    "\n",
    "boxplot_range = (q1 - 1.5 * iqr, q3 + 1.5 * iqr)\n",
    "print(f'Усы: {boxplot_range}')\n",
    "plt.boxplot(salary);\n",
    "print('Из рисунка boxplot видно, что выбросом является значение зарплаты 150')\n",
    "\n",
    "print('\\nПроверка')\n",
    "print('Т.к. у нас нижня граница получилась отрицательной,\\n'\n",
    "      'а отрицательных з/п нет, то проверим только превышение верхнего порога')\n",
    "for i in salary:\n",
    "    if i > boxplot_range[1]:\n",
    "        print(f'значение зарплаты {i}, больше верхнего значения порога {boxplot_range[1]}')"
   ]
  },
  {
   "cell_type": "markdown",
   "metadata": {},
   "source": [
    "__Задача 3__\n",
    "\n",
    "В университет на факультеты `A` и `B` поступило равное количество студентов, а на факультет `C` студентов поступило столько же, сколько на `A` и `B` вместе. Вероятность того, что студент факультета `A` сдаст первую сессию, равна 0.8. Для студента факультета `B` эта вероятность равна 0.7, а для студента факультета `C` - 0.9. Студент сдал первую сессию. Какова вероятность, что он учится: a) на факультете `A`? б) на факультете `B`? в) на факультете `C`?\n",
    "\n",
    "_Замечание_: да, эта задача не на тему описательных статистик, но тема важная, и её стоит иногда освежать в памяти."
   ]
  },
  {
   "cell_type": "markdown",
   "metadata": {},
   "source": [
    "Задача решается по теореме Байеса\n",
    "Т.к. на факультет А и В потупило одинаковое количество людей, а на факультет С в 2 раза больше,  \n",
    "то вероятность поступления на факультеты равна:\n",
    "$$P(A) = \\frac{1}{4} $$ \n",
    "\n",
    "$$P(B) = \\frac{1}{4} $$\n",
    "\n",
    "$$P(C) = \\frac{2}{4} $$\n",
    "\n",
    "Далее найдем полную вероятность того, что студенты всех факультетов сдали сессию по формуле:\n",
    "$$P(сдал\\;сессию) = {P(A|сдал\\;сессию)*P(A) + P(B|сдал\\;сессию)*P(B) + P(B|сдал\\;сессию)*P(B)}$$ \n",
    "Подставим ее в формулу Байесса, для каждого варианта\n",
    "$$P(A|сдал\\;сессию) = \\frac{P(A|сдал\\;сессию)*P(A)}{P(сдал\\;сессию)} $$  \n",
    "$$P(B|сдал\\;сессию) = \\frac{P(B|сдал\\;сессию)*P(B)}{P(сдал\\;сессию)} $$  \n",
    "$$P(C|сдал\\;сессию) = \\frac{P(C|сдал\\;сессию)*P(C)}{P(сдал\\;сессию)} $$  "
   ]
  },
  {
   "cell_type": "code",
   "execution_count": 6,
   "metadata": {},
   "outputs": [
    {
     "data": {
      "text/plain": [
       "0.825"
      ]
     },
     "execution_count": 6,
     "metadata": {},
     "output_type": "execute_result"
    }
   ],
   "source": [
    "p_full = 0.25*0.8 + 0.25*0.7 + 0.5*0.9\n",
    "p_full"
   ]
  },
  {
   "cell_type": "code",
   "execution_count": 8,
   "metadata": {},
   "outputs": [
    {
     "name": "stdout",
     "output_type": "stream",
     "text": [
      "Вероятность того, что студент учится на факультете А: 0.24242424242424246\n",
      "Вероятность того, что студент учится на факультете B: 0.21212121212121213\n",
      "Вероятность того, что студент учится на факультете C: 0.5454545454545455\n"
     ]
    }
   ],
   "source": [
    "p_A = 0.25*0.8/p_full\n",
    "p_B = 0.25*0.7/p_full\n",
    "p_C = 0.5*0.9/p_full\n",
    "print(f'Вероятность того, что студент учится на факультете А: {p_A}')\n",
    "print(f'Вероятность того, что студент учится на факультете B: {p_B}')\n",
    "print(f'Вероятность того, что студент учится на факультете C: {p_C}')"
   ]
  },
  {
   "cell_type": "code",
   "execution_count": 9,
   "metadata": {},
   "outputs": [
    {
     "data": {
      "text/plain": [
       "1.0"
      ]
     },
     "execution_count": 9,
     "metadata": {},
     "output_type": "execute_result"
    }
   ],
   "source": [
    "# Проверка\n",
    "p_A + p_B + p_C"
   ]
  }
 ],
 "metadata": {
  "kernelspec": {
   "display_name": "Python 3",
   "language": "python",
   "name": "python3"
  },
  "language_info": {
   "codemirror_mode": {
    "name": "ipython",
    "version": 3
   },
   "file_extension": ".py",
   "mimetype": "text/x-python",
   "name": "python",
   "nbconvert_exporter": "python",
   "pygments_lexer": "ipython3",
   "version": "3.7.1"
  }
 },
 "nbformat": 4,
 "nbformat_minor": 2
}
